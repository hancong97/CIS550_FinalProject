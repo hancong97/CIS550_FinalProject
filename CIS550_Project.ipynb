{
  "nbformat": 4,
  "nbformat_minor": 0,
  "metadata": {
    "colab": {
      "name": "CIS550_Project",
      "provenance": [],
      "collapsed_sections": [],
      "toc_visible": true,
      "include_colab_link": true
    },
    "kernelspec": {
      "name": "python3",
      "display_name": "Python 3"
    },
    "language_info": {
      "name": "python"
    }
  },
  "cells": [
    {
      "cell_type": "markdown",
      "metadata": {
        "id": "view-in-github",
        "colab_type": "text"
      },
      "source": [
        "<a href=\"https://colab.research.google.com/github/andongl1997/CIS550-Final-Project/blob/main/CIS550_Project.ipynb\" target=\"_parent\"><img src=\"https://colab.research.google.com/assets/colab-badge.svg\" alt=\"Open In Colab\"/></a>"
      ]
    },
    {
      "cell_type": "markdown",
      "metadata": {
        "id": "4UQisTPVNvf3"
      },
      "source": [
        "#Part 0 - Settings"
      ]
    },
    {
      "cell_type": "code",
      "metadata": {
        "colab": {
          "base_uri": "https://localhost:8080/"
        },
        "id": "Wkvf_wObFGh5",
        "outputId": "8a8b8524-6bf8-400e-dcdf-6cf11b93ce36"
      },
      "source": [
        "from google.colab import drive \n",
        "drive.mount('/content/drive')\n",
        "%cd /content/drive/Shareddrives/cis550_project/Covid_outline"
      ],
      "execution_count": null,
      "outputs": [
        {
          "output_type": "stream",
          "text": [
            "Drive already mounted at /content/drive; to attempt to forcibly remount, call drive.mount(\"/content/drive\", force_remount=True).\n",
            "/content/drive/Shareddrives/cis550_project/Covid_outline\n"
          ],
          "name": "stdout"
        }
      ]
    },
    {
      "cell_type": "code",
      "metadata": {
        "colab": {
          "base_uri": "https://localhost:8080/"
        },
        "id": "oOJNdBrSPDPt",
        "outputId": "23a8416b-2128-4ac1-ec94-c389f5d6d13c"
      },
      "source": [
        "import numpy as np\n",
        "import pandas as pd\n",
        "!pip3 install pandasql\n",
        "import pandasql as ps"
      ],
      "execution_count": null,
      "outputs": [
        {
          "output_type": "stream",
          "text": [
            "Requirement already satisfied: pandasql in /usr/local/lib/python3.7/dist-packages (0.7.3)\n",
            "Requirement already satisfied: sqlalchemy in /usr/local/lib/python3.7/dist-packages (from pandasql) (1.4.3)\n",
            "Requirement already satisfied: numpy in /usr/local/lib/python3.7/dist-packages (from pandasql) (1.19.5)\n",
            "Requirement already satisfied: pandas in /usr/local/lib/python3.7/dist-packages (from pandasql) (1.1.5)\n",
            "Requirement already satisfied: importlib-metadata; python_version < \"3.8\" in /usr/local/lib/python3.7/dist-packages (from sqlalchemy->pandasql) (3.8.1)\n",
            "Requirement already satisfied: greenlet!=0.4.17; python_version >= \"3\" in /usr/local/lib/python3.7/dist-packages (from sqlalchemy->pandasql) (1.0.0)\n",
            "Requirement already satisfied: pytz>=2017.2 in /usr/local/lib/python3.7/dist-packages (from pandas->pandasql) (2018.9)\n",
            "Requirement already satisfied: python-dateutil>=2.7.3 in /usr/local/lib/python3.7/dist-packages (from pandas->pandasql) (2.8.1)\n",
            "Requirement already satisfied: typing-extensions>=3.6.4; python_version < \"3.8\" in /usr/local/lib/python3.7/dist-packages (from importlib-metadata; python_version < \"3.8\"->sqlalchemy->pandasql) (3.7.4.3)\n",
            "Requirement already satisfied: zipp>=0.5 in /usr/local/lib/python3.7/dist-packages (from importlib-metadata; python_version < \"3.8\"->sqlalchemy->pandasql) (3.4.1)\n",
            "Requirement already satisfied: six>=1.5 in /usr/local/lib/python3.7/dist-packages (from python-dateutil>=2.7.3->pandas->pandasql) (1.15.0)\n"
          ],
          "name": "stdout"
        }
      ]
    },
    {
      "cell_type": "markdown",
      "metadata": {
        "id": "L2aazBxSPXU8"
      },
      "source": [
        "#Part 1 - Data Clean"
      ]
    },
    {
      "cell_type": "markdown",
      "metadata": {
        "id": "9xhkGuSsPe3_"
      },
      "source": [
        "##Map page"
      ]
    },
    {
      "cell_type": "code",
      "metadata": {
        "colab": {
          "base_uri": "https://localhost:8080/",
          "height": 238
        },
        "id": "NmJYBJl7PTEg",
        "outputId": "50e96a32-9dd2-4382-a601-5422a9946db0"
      },
      "source": [
        "df = pd.read_csv('covid-19-all.csv')\n",
        "df.head()"
      ],
      "execution_count": null,
      "outputs": [
        {
          "output_type": "stream",
          "text": [
            "/usr/local/lib/python3.7/dist-packages/IPython/core/interactiveshell.py:2718: DtypeWarning: Columns (0,1) have mixed types.Specify dtype option on import or set low_memory=False.\n",
            "  interactivity=interactivity, compiler=compiler, result=result)\n"
          ],
          "name": "stderr"
        },
        {
          "output_type": "execute_result",
          "data": {
            "text/html": [
              "<div>\n",
              "<style scoped>\n",
              "    .dataframe tbody tr th:only-of-type {\n",
              "        vertical-align: middle;\n",
              "    }\n",
              "\n",
              "    .dataframe tbody tr th {\n",
              "        vertical-align: top;\n",
              "    }\n",
              "\n",
              "    .dataframe thead th {\n",
              "        text-align: right;\n",
              "    }\n",
              "</style>\n",
              "<table border=\"1\" class=\"dataframe\">\n",
              "  <thead>\n",
              "    <tr style=\"text-align: right;\">\n",
              "      <th></th>\n",
              "      <th>Country/Region</th>\n",
              "      <th>Province/State</th>\n",
              "      <th>Latitude</th>\n",
              "      <th>Longitude</th>\n",
              "      <th>Confirmed</th>\n",
              "      <th>Recovered</th>\n",
              "      <th>Deaths</th>\n",
              "      <th>Date</th>\n",
              "    </tr>\n",
              "  </thead>\n",
              "  <tbody>\n",
              "    <tr>\n",
              "      <th>0</th>\n",
              "      <td>NaN</td>\n",
              "      <td>NaN</td>\n",
              "      <td>NaN</td>\n",
              "      <td>NaN</td>\n",
              "      <td>51526.0</td>\n",
              "      <td>41727.0</td>\n",
              "      <td>2191.0</td>\n",
              "      <td>2021-01-01</td>\n",
              "    </tr>\n",
              "    <tr>\n",
              "      <th>1</th>\n",
              "      <td>NaN</td>\n",
              "      <td>NaN</td>\n",
              "      <td>NaN</td>\n",
              "      <td>NaN</td>\n",
              "      <td>58316.0</td>\n",
              "      <td>33634.0</td>\n",
              "      <td>1181.0</td>\n",
              "      <td>2021-01-01</td>\n",
              "    </tr>\n",
              "    <tr>\n",
              "      <th>2</th>\n",
              "      <td>NaN</td>\n",
              "      <td>NaN</td>\n",
              "      <td>NaN</td>\n",
              "      <td>NaN</td>\n",
              "      <td>99897.0</td>\n",
              "      <td>67395.0</td>\n",
              "      <td>2762.0</td>\n",
              "      <td>2021-01-01</td>\n",
              "    </tr>\n",
              "    <tr>\n",
              "      <th>3</th>\n",
              "      <td>NaN</td>\n",
              "      <td>NaN</td>\n",
              "      <td>NaN</td>\n",
              "      <td>NaN</td>\n",
              "      <td>8117.0</td>\n",
              "      <td>7463.0</td>\n",
              "      <td>84.0</td>\n",
              "      <td>2021-01-01</td>\n",
              "    </tr>\n",
              "    <tr>\n",
              "      <th>4</th>\n",
              "      <td>NaN</td>\n",
              "      <td>NaN</td>\n",
              "      <td>NaN</td>\n",
              "      <td>NaN</td>\n",
              "      <td>17568.0</td>\n",
              "      <td>11146.0</td>\n",
              "      <td>405.0</td>\n",
              "      <td>2021-01-01</td>\n",
              "    </tr>\n",
              "  </tbody>\n",
              "</table>\n",
              "</div>"
            ],
            "text/plain": [
              "  Country/Region Province/State  Latitude  ...  Recovered  Deaths        Date\n",
              "0            NaN            NaN       NaN  ...    41727.0  2191.0  2021-01-01\n",
              "1            NaN            NaN       NaN  ...    33634.0  1181.0  2021-01-01\n",
              "2            NaN            NaN       NaN  ...    67395.0  2762.0  2021-01-01\n",
              "3            NaN            NaN       NaN  ...     7463.0    84.0  2021-01-01\n",
              "4            NaN            NaN       NaN  ...    11146.0   405.0  2021-01-01\n",
              "\n",
              "[5 rows x 8 columns]"
            ]
          },
          "metadata": {
            "tags": []
          },
          "execution_count": 97
        }
      ]
    },
    {
      "cell_type": "code",
      "metadata": {
        "colab": {
          "base_uri": "https://localhost:8080/"
        },
        "id": "QojTz7qVQv7m",
        "outputId": "299dbe50-6695-40dd-fe81-574b6e51cfdf"
      },
      "source": [
        "# Check the Null values \n",
        "df.isnull().sum()"
      ],
      "execution_count": null,
      "outputs": [
        {
          "output_type": "execute_result",
          "data": {
            "text/plain": [
              "Country/Region    171061\n",
              "Province/State    223208\n",
              "Latitude          171062\n",
              "Longitude         171062\n",
              "Confirmed             19\n",
              "Recovered            386\n",
              "Deaths               432\n",
              "Date                   0\n",
              "dtype: int64"
            ]
          },
          "metadata": {
            "tags": []
          },
          "execution_count": 98
        }
      ]
    },
    {
      "cell_type": "code",
      "metadata": {
        "colab": {
          "base_uri": "https://localhost:8080/",
          "height": 204
        },
        "id": "iERuLcEtSejb",
        "outputId": "f27ed085-0223-4cc9-d428-3ba7a18ec9c2"
      },
      "source": [
        "df = df.rename(columns={'Country/Region':'Country_Region',\n",
        "          'Province/State':'Province_State'})\n",
        "df.head()"
      ],
      "execution_count": null,
      "outputs": [
        {
          "output_type": "execute_result",
          "data": {
            "text/html": [
              "<div>\n",
              "<style scoped>\n",
              "    .dataframe tbody tr th:only-of-type {\n",
              "        vertical-align: middle;\n",
              "    }\n",
              "\n",
              "    .dataframe tbody tr th {\n",
              "        vertical-align: top;\n",
              "    }\n",
              "\n",
              "    .dataframe thead th {\n",
              "        text-align: right;\n",
              "    }\n",
              "</style>\n",
              "<table border=\"1\" class=\"dataframe\">\n",
              "  <thead>\n",
              "    <tr style=\"text-align: right;\">\n",
              "      <th></th>\n",
              "      <th>Country_Region</th>\n",
              "      <th>Province_State</th>\n",
              "      <th>Latitude</th>\n",
              "      <th>Longitude</th>\n",
              "      <th>Confirmed</th>\n",
              "      <th>Recovered</th>\n",
              "      <th>Deaths</th>\n",
              "      <th>Date</th>\n",
              "    </tr>\n",
              "  </thead>\n",
              "  <tbody>\n",
              "    <tr>\n",
              "      <th>0</th>\n",
              "      <td>NaN</td>\n",
              "      <td>NaN</td>\n",
              "      <td>NaN</td>\n",
              "      <td>NaN</td>\n",
              "      <td>51526.0</td>\n",
              "      <td>41727.0</td>\n",
              "      <td>2191.0</td>\n",
              "      <td>2021-01-01</td>\n",
              "    </tr>\n",
              "    <tr>\n",
              "      <th>1</th>\n",
              "      <td>NaN</td>\n",
              "      <td>NaN</td>\n",
              "      <td>NaN</td>\n",
              "      <td>NaN</td>\n",
              "      <td>58316.0</td>\n",
              "      <td>33634.0</td>\n",
              "      <td>1181.0</td>\n",
              "      <td>2021-01-01</td>\n",
              "    </tr>\n",
              "    <tr>\n",
              "      <th>2</th>\n",
              "      <td>NaN</td>\n",
              "      <td>NaN</td>\n",
              "      <td>NaN</td>\n",
              "      <td>NaN</td>\n",
              "      <td>99897.0</td>\n",
              "      <td>67395.0</td>\n",
              "      <td>2762.0</td>\n",
              "      <td>2021-01-01</td>\n",
              "    </tr>\n",
              "    <tr>\n",
              "      <th>3</th>\n",
              "      <td>NaN</td>\n",
              "      <td>NaN</td>\n",
              "      <td>NaN</td>\n",
              "      <td>NaN</td>\n",
              "      <td>8117.0</td>\n",
              "      <td>7463.0</td>\n",
              "      <td>84.0</td>\n",
              "      <td>2021-01-01</td>\n",
              "    </tr>\n",
              "    <tr>\n",
              "      <th>4</th>\n",
              "      <td>NaN</td>\n",
              "      <td>NaN</td>\n",
              "      <td>NaN</td>\n",
              "      <td>NaN</td>\n",
              "      <td>17568.0</td>\n",
              "      <td>11146.0</td>\n",
              "      <td>405.0</td>\n",
              "      <td>2021-01-01</td>\n",
              "    </tr>\n",
              "  </tbody>\n",
              "</table>\n",
              "</div>"
            ],
            "text/plain": [
              "  Country_Region Province_State  Latitude  ...  Recovered  Deaths        Date\n",
              "0            NaN            NaN       NaN  ...    41727.0  2191.0  2021-01-01\n",
              "1            NaN            NaN       NaN  ...    33634.0  1181.0  2021-01-01\n",
              "2            NaN            NaN       NaN  ...    67395.0  2762.0  2021-01-01\n",
              "3            NaN            NaN       NaN  ...     7463.0    84.0  2021-01-01\n",
              "4            NaN            NaN       NaN  ...    11146.0   405.0  2021-01-01\n",
              "\n",
              "[5 rows x 8 columns]"
            ]
          },
          "metadata": {
            "tags": []
          },
          "execution_count": 99
        }
      ]
    },
    {
      "cell_type": "code",
      "metadata": {
        "id": "16pqAdgIcdjy"
      },
      "source": [
        "# df['Date'] = pd.to_datetime(df['Date'])"
      ],
      "execution_count": null,
      "outputs": []
    },
    {
      "cell_type": "code",
      "metadata": {
        "id": "RS1c5mjmPWwj"
      },
      "source": [
        "#Since the country is the prime key, we don't expect null values here \\\n",
        "query = \"\"\" \n",
        "Select Country_Region,Province_State,Confirmed,Recovered,Deaths,Date\n",
        "From df \n",
        "where Country_Region is not null \"\"\"\n",
        "map_df = ps.sqldf(query)"
      ],
      "execution_count": null,
      "outputs": []
    },
    {
      "cell_type": "code",
      "metadata": {
        "colab": {
          "base_uri": "https://localhost:8080/",
          "height": 419
        },
        "id": "xpSc9uEJU07i",
        "outputId": "94452f6a-6a45-494e-d645-25aa93ca40e6"
      },
      "source": [
        "#Fill nulls with 0 in Confirmed,Recovered,Deaths cases \n",
        "map_df['Confirmed'].fillna(0,inplace = True)\n",
        "map_df['Recovered'].fillna(0,inplace = True)\n",
        "map_df['Deaths'].fillna(0,inplace = True)\n",
        "map_df"
      ],
      "execution_count": null,
      "outputs": [
        {
          "output_type": "execute_result",
          "data": {
            "text/html": [
              "<div>\n",
              "<style scoped>\n",
              "    .dataframe tbody tr th:only-of-type {\n",
              "        vertical-align: middle;\n",
              "    }\n",
              "\n",
              "    .dataframe tbody tr th {\n",
              "        vertical-align: top;\n",
              "    }\n",
              "\n",
              "    .dataframe thead th {\n",
              "        text-align: right;\n",
              "    }\n",
              "</style>\n",
              "<table border=\"1\" class=\"dataframe\">\n",
              "  <thead>\n",
              "    <tr style=\"text-align: right;\">\n",
              "      <th></th>\n",
              "      <th>Country_Region</th>\n",
              "      <th>Province_State</th>\n",
              "      <th>Confirmed</th>\n",
              "      <th>Recovered</th>\n",
              "      <th>Deaths</th>\n",
              "      <th>Date</th>\n",
              "    </tr>\n",
              "  </thead>\n",
              "  <tbody>\n",
              "    <tr>\n",
              "      <th>0</th>\n",
              "      <td>China</td>\n",
              "      <td>Anhui</td>\n",
              "      <td>1.0</td>\n",
              "      <td>0.0</td>\n",
              "      <td>0.0</td>\n",
              "      <td>2020-01-22</td>\n",
              "    </tr>\n",
              "    <tr>\n",
              "      <th>1</th>\n",
              "      <td>China</td>\n",
              "      <td>Beijing</td>\n",
              "      <td>14.0</td>\n",
              "      <td>0.0</td>\n",
              "      <td>0.0</td>\n",
              "      <td>2020-01-22</td>\n",
              "    </tr>\n",
              "    <tr>\n",
              "      <th>2</th>\n",
              "      <td>China</td>\n",
              "      <td>Chongqing</td>\n",
              "      <td>6.0</td>\n",
              "      <td>0.0</td>\n",
              "      <td>0.0</td>\n",
              "      <td>2020-01-22</td>\n",
              "    </tr>\n",
              "    <tr>\n",
              "      <th>3</th>\n",
              "      <td>China</td>\n",
              "      <td>Fujian</td>\n",
              "      <td>1.0</td>\n",
              "      <td>0.0</td>\n",
              "      <td>0.0</td>\n",
              "      <td>2020-01-22</td>\n",
              "    </tr>\n",
              "    <tr>\n",
              "      <th>4</th>\n",
              "      <td>China</td>\n",
              "      <td>Gansu</td>\n",
              "      <td>0.0</td>\n",
              "      <td>0.0</td>\n",
              "      <td>0.0</td>\n",
              "      <td>2020-01-22</td>\n",
              "    </tr>\n",
              "    <tr>\n",
              "      <th>...</th>\n",
              "      <td>...</td>\n",
              "      <td>...</td>\n",
              "      <td>...</td>\n",
              "      <td>...</td>\n",
              "      <td>...</td>\n",
              "      <td>...</td>\n",
              "    </tr>\n",
              "    <tr>\n",
              "      <th>1070886</th>\n",
              "      <td>Vietnam</td>\n",
              "      <td>None</td>\n",
              "      <td>1465.0</td>\n",
              "      <td>1325.0</td>\n",
              "      <td>35.0</td>\n",
              "      <td>2020-12-31</td>\n",
              "    </tr>\n",
              "    <tr>\n",
              "      <th>1070887</th>\n",
              "      <td>West Bank and Gaza</td>\n",
              "      <td>None</td>\n",
              "      <td>138004.0</td>\n",
              "      <td>117183.0</td>\n",
              "      <td>1400.0</td>\n",
              "      <td>2020-12-31</td>\n",
              "    </tr>\n",
              "    <tr>\n",
              "      <th>1070888</th>\n",
              "      <td>Yemen</td>\n",
              "      <td>None</td>\n",
              "      <td>2099.0</td>\n",
              "      <td>1394.0</td>\n",
              "      <td>610.0</td>\n",
              "      <td>2020-12-31</td>\n",
              "    </tr>\n",
              "    <tr>\n",
              "      <th>1070889</th>\n",
              "      <td>Zambia</td>\n",
              "      <td>None</td>\n",
              "      <td>20725.0</td>\n",
              "      <td>18660.0</td>\n",
              "      <td>388.0</td>\n",
              "      <td>2020-12-31</td>\n",
              "    </tr>\n",
              "    <tr>\n",
              "      <th>1070890</th>\n",
              "      <td>Zimbabwe</td>\n",
              "      <td>None</td>\n",
              "      <td>13867.0</td>\n",
              "      <td>11250.0</td>\n",
              "      <td>363.0</td>\n",
              "      <td>2020-12-31</td>\n",
              "    </tr>\n",
              "  </tbody>\n",
              "</table>\n",
              "<p>1070891 rows × 6 columns</p>\n",
              "</div>"
            ],
            "text/plain": [
              "             Country_Region Province_State  ...  Deaths        Date\n",
              "0                     China          Anhui  ...     0.0  2020-01-22\n",
              "1                     China        Beijing  ...     0.0  2020-01-22\n",
              "2                     China      Chongqing  ...     0.0  2020-01-22\n",
              "3                     China         Fujian  ...     0.0  2020-01-22\n",
              "4                     China          Gansu  ...     0.0  2020-01-22\n",
              "...                     ...            ...  ...     ...         ...\n",
              "1070886             Vietnam           None  ...    35.0  2020-12-31\n",
              "1070887  West Bank and Gaza           None  ...  1400.0  2020-12-31\n",
              "1070888               Yemen           None  ...   610.0  2020-12-31\n",
              "1070889              Zambia           None  ...   388.0  2020-12-31\n",
              "1070890            Zimbabwe           None  ...   363.0  2020-12-31\n",
              "\n",
              "[1070891 rows x 6 columns]"
            ]
          },
          "metadata": {
            "tags": []
          },
          "execution_count": 101
        }
      ]
    },
    {
      "cell_type": "code",
      "metadata": {
        "id": "DFhPBA5w9qEo"
      },
      "source": [
        "confirm_case = map_df[['Country_Region','Province_State','Confirmed','Date']]\n",
        "recover_case = map_df[['Country_Region','Province_State','Recovered','Date']]\n",
        "deaths_case = map_df[['Country_Region','Province_State','Deaths','Date']]"
      ],
      "execution_count": null,
      "outputs": []
    },
    {
      "cell_type": "code",
      "metadata": {
        "colab": {
          "base_uri": "https://localhost:8080/",
          "height": 406
        },
        "id": "UOhpMlN7BiBt",
        "outputId": "464745ec-4370-4b4c-9bd9-2d816a703d92"
      },
      "source": [
        "confirm_case"
      ],
      "execution_count": null,
      "outputs": [
        {
          "output_type": "execute_result",
          "data": {
            "text/html": [
              "<div>\n",
              "<style scoped>\n",
              "    .dataframe tbody tr th:only-of-type {\n",
              "        vertical-align: middle;\n",
              "    }\n",
              "\n",
              "    .dataframe tbody tr th {\n",
              "        vertical-align: top;\n",
              "    }\n",
              "\n",
              "    .dataframe thead th {\n",
              "        text-align: right;\n",
              "    }\n",
              "</style>\n",
              "<table border=\"1\" class=\"dataframe\">\n",
              "  <thead>\n",
              "    <tr style=\"text-align: right;\">\n",
              "      <th></th>\n",
              "      <th>Country_Region</th>\n",
              "      <th>Province_State</th>\n",
              "      <th>Confirmed</th>\n",
              "      <th>Date</th>\n",
              "    </tr>\n",
              "  </thead>\n",
              "  <tbody>\n",
              "    <tr>\n",
              "      <th>0</th>\n",
              "      <td>China</td>\n",
              "      <td>Anhui</td>\n",
              "      <td>1.0</td>\n",
              "      <td>2020-01-22</td>\n",
              "    </tr>\n",
              "    <tr>\n",
              "      <th>1</th>\n",
              "      <td>China</td>\n",
              "      <td>Beijing</td>\n",
              "      <td>14.0</td>\n",
              "      <td>2020-01-22</td>\n",
              "    </tr>\n",
              "    <tr>\n",
              "      <th>2</th>\n",
              "      <td>China</td>\n",
              "      <td>Chongqing</td>\n",
              "      <td>6.0</td>\n",
              "      <td>2020-01-22</td>\n",
              "    </tr>\n",
              "    <tr>\n",
              "      <th>3</th>\n",
              "      <td>China</td>\n",
              "      <td>Fujian</td>\n",
              "      <td>1.0</td>\n",
              "      <td>2020-01-22</td>\n",
              "    </tr>\n",
              "    <tr>\n",
              "      <th>4</th>\n",
              "      <td>China</td>\n",
              "      <td>Gansu</td>\n",
              "      <td>0.0</td>\n",
              "      <td>2020-01-22</td>\n",
              "    </tr>\n",
              "    <tr>\n",
              "      <th>...</th>\n",
              "      <td>...</td>\n",
              "      <td>...</td>\n",
              "      <td>...</td>\n",
              "      <td>...</td>\n",
              "    </tr>\n",
              "    <tr>\n",
              "      <th>1070886</th>\n",
              "      <td>Vietnam</td>\n",
              "      <td>None</td>\n",
              "      <td>1465.0</td>\n",
              "      <td>2020-12-31</td>\n",
              "    </tr>\n",
              "    <tr>\n",
              "      <th>1070887</th>\n",
              "      <td>West Bank and Gaza</td>\n",
              "      <td>None</td>\n",
              "      <td>138004.0</td>\n",
              "      <td>2020-12-31</td>\n",
              "    </tr>\n",
              "    <tr>\n",
              "      <th>1070888</th>\n",
              "      <td>Yemen</td>\n",
              "      <td>None</td>\n",
              "      <td>2099.0</td>\n",
              "      <td>2020-12-31</td>\n",
              "    </tr>\n",
              "    <tr>\n",
              "      <th>1070889</th>\n",
              "      <td>Zambia</td>\n",
              "      <td>None</td>\n",
              "      <td>20725.0</td>\n",
              "      <td>2020-12-31</td>\n",
              "    </tr>\n",
              "    <tr>\n",
              "      <th>1070890</th>\n",
              "      <td>Zimbabwe</td>\n",
              "      <td>None</td>\n",
              "      <td>13867.0</td>\n",
              "      <td>2020-12-31</td>\n",
              "    </tr>\n",
              "  </tbody>\n",
              "</table>\n",
              "<p>1070891 rows × 4 columns</p>\n",
              "</div>"
            ],
            "text/plain": [
              "             Country_Region Province_State  Confirmed        Date\n",
              "0                     China          Anhui        1.0  2020-01-22\n",
              "1                     China        Beijing       14.0  2020-01-22\n",
              "2                     China      Chongqing        6.0  2020-01-22\n",
              "3                     China         Fujian        1.0  2020-01-22\n",
              "4                     China          Gansu        0.0  2020-01-22\n",
              "...                     ...            ...        ...         ...\n",
              "1070886             Vietnam           None     1465.0  2020-12-31\n",
              "1070887  West Bank and Gaza           None   138004.0  2020-12-31\n",
              "1070888               Yemen           None     2099.0  2020-12-31\n",
              "1070889              Zambia           None    20725.0  2020-12-31\n",
              "1070890            Zimbabwe           None    13867.0  2020-12-31\n",
              "\n",
              "[1070891 rows x 4 columns]"
            ]
          },
          "metadata": {
            "tags": []
          },
          "execution_count": 34
        }
      ]
    },
    {
      "cell_type": "code",
      "metadata": {
        "id": "U9e_L4fZ-WsG"
      },
      "source": [
        "confirm_case.to_csv('Confirm_Case.csv')\n",
        "recover_case.to_csv('Recover_Case.csv')\n",
        "deaths_case.to_csv('Deaths_Case.csv')\n"
      ],
      "execution_count": null,
      "outputs": []
    },
    {
      "cell_type": "code",
      "metadata": {
        "colab": {
          "base_uri": "https://localhost:8080/",
          "height": 406
        },
        "id": "9y0UziXWJo6m",
        "outputId": "00d6dcfe-d680-4580-fef7-df0d060cc5c2"
      },
      "source": [
        "confirm_case"
      ],
      "execution_count": null,
      "outputs": [
        {
          "output_type": "execute_result",
          "data": {
            "text/html": [
              "<div>\n",
              "<style scoped>\n",
              "    .dataframe tbody tr th:only-of-type {\n",
              "        vertical-align: middle;\n",
              "    }\n",
              "\n",
              "    .dataframe tbody tr th {\n",
              "        vertical-align: top;\n",
              "    }\n",
              "\n",
              "    .dataframe thead th {\n",
              "        text-align: right;\n",
              "    }\n",
              "</style>\n",
              "<table border=\"1\" class=\"dataframe\">\n",
              "  <thead>\n",
              "    <tr style=\"text-align: right;\">\n",
              "      <th></th>\n",
              "      <th>Country_Region</th>\n",
              "      <th>Province_State</th>\n",
              "      <th>Confirmed</th>\n",
              "      <th>Date</th>\n",
              "    </tr>\n",
              "  </thead>\n",
              "  <tbody>\n",
              "    <tr>\n",
              "      <th>0</th>\n",
              "      <td>China</td>\n",
              "      <td>Anhui</td>\n",
              "      <td>1.0</td>\n",
              "      <td>2020-01-22</td>\n",
              "    </tr>\n",
              "    <tr>\n",
              "      <th>1</th>\n",
              "      <td>China</td>\n",
              "      <td>Beijing</td>\n",
              "      <td>14.0</td>\n",
              "      <td>2020-01-22</td>\n",
              "    </tr>\n",
              "    <tr>\n",
              "      <th>2</th>\n",
              "      <td>China</td>\n",
              "      <td>Chongqing</td>\n",
              "      <td>6.0</td>\n",
              "      <td>2020-01-22</td>\n",
              "    </tr>\n",
              "    <tr>\n",
              "      <th>3</th>\n",
              "      <td>China</td>\n",
              "      <td>Fujian</td>\n",
              "      <td>1.0</td>\n",
              "      <td>2020-01-22</td>\n",
              "    </tr>\n",
              "    <tr>\n",
              "      <th>4</th>\n",
              "      <td>China</td>\n",
              "      <td>Gansu</td>\n",
              "      <td>0.0</td>\n",
              "      <td>2020-01-22</td>\n",
              "    </tr>\n",
              "    <tr>\n",
              "      <th>...</th>\n",
              "      <td>...</td>\n",
              "      <td>...</td>\n",
              "      <td>...</td>\n",
              "      <td>...</td>\n",
              "    </tr>\n",
              "    <tr>\n",
              "      <th>1070886</th>\n",
              "      <td>Vietnam</td>\n",
              "      <td>None</td>\n",
              "      <td>1465.0</td>\n",
              "      <td>2020-12-31</td>\n",
              "    </tr>\n",
              "    <tr>\n",
              "      <th>1070887</th>\n",
              "      <td>West Bank and Gaza</td>\n",
              "      <td>None</td>\n",
              "      <td>138004.0</td>\n",
              "      <td>2020-12-31</td>\n",
              "    </tr>\n",
              "    <tr>\n",
              "      <th>1070888</th>\n",
              "      <td>Yemen</td>\n",
              "      <td>None</td>\n",
              "      <td>2099.0</td>\n",
              "      <td>2020-12-31</td>\n",
              "    </tr>\n",
              "    <tr>\n",
              "      <th>1070889</th>\n",
              "      <td>Zambia</td>\n",
              "      <td>None</td>\n",
              "      <td>20725.0</td>\n",
              "      <td>2020-12-31</td>\n",
              "    </tr>\n",
              "    <tr>\n",
              "      <th>1070890</th>\n",
              "      <td>Zimbabwe</td>\n",
              "      <td>None</td>\n",
              "      <td>13867.0</td>\n",
              "      <td>2020-12-31</td>\n",
              "    </tr>\n",
              "  </tbody>\n",
              "</table>\n",
              "<p>1070891 rows × 4 columns</p>\n",
              "</div>"
            ],
            "text/plain": [
              "             Country_Region Province_State  Confirmed        Date\n",
              "0                     China          Anhui        1.0  2020-01-22\n",
              "1                     China        Beijing       14.0  2020-01-22\n",
              "2                     China      Chongqing        6.0  2020-01-22\n",
              "3                     China         Fujian        1.0  2020-01-22\n",
              "4                     China          Gansu        0.0  2020-01-22\n",
              "...                     ...            ...        ...         ...\n",
              "1070886             Vietnam           None     1465.0  2020-12-31\n",
              "1070887  West Bank and Gaza           None   138004.0  2020-12-31\n",
              "1070888               Yemen           None     2099.0  2020-12-31\n",
              "1070889              Zambia           None    20725.0  2020-12-31\n",
              "1070890            Zimbabwe           None    13867.0  2020-12-31\n",
              "\n",
              "[1070891 rows x 4 columns]"
            ]
          },
          "metadata": {
            "tags": []
          },
          "execution_count": 85
        }
      ]
    },
    {
      "cell_type": "code",
      "metadata": {
        "colab": {
          "base_uri": "https://localhost:8080/",
          "height": 80
        },
        "id": "pvYSK-eTMZY_",
        "outputId": "c28562a5-4e18-4f54-f862-86a571d957bc"
      },
      "source": [
        "#Given the rank of confirmed,death recovered for each country based on the number \n",
        "query = '''\n",
        "With temp1 as (\n",
        "Select Country_Region, sum(Recovered) as Recovered, 1 as rank\n",
        "from recover_case\n",
        "group by Country_Region\n",
        "order by Recovered desc),\n",
        "\n",
        "temp_recover_rank as(\n",
        "select b.Country_Region,sum(a.rank) as recover_rank\n",
        "from temp1 a,temp1 b \n",
        "where a.Recovered>=b.Recovered \n",
        "group by b.Country_Region\n",
        "order by recover_rank asc),\n",
        "\n",
        "temp2 as (\n",
        "Select Country_Region, sum(Deaths) as Deaths, 1 as death_rank\n",
        "from deaths_case\n",
        "group by Country_Region\n",
        "order by Deaths desc),\n",
        "\n",
        "temp_death_rank as(\n",
        "select d.Country_Region,sum(c.death_rank) as death_rank\n",
        "from temp2 c,temp2 d \n",
        "where c.Deaths>=d.Deaths \n",
        "group by d.Country_Region\n",
        "order by death_rank asc),\n",
        "\n",
        "\n",
        "temp3 as(\n",
        "Select Country_Region, sum(Confirmed) as Confirmed, 1 as confirmed_rank\n",
        "from confirm_case\n",
        "group by Country_Region\n",
        "order by Confirmed desc),\n",
        "\n",
        "temp_confirmed_rank as(\n",
        "select f.Country_Region,sum(e.confirmed_rank) as confirmed_rank\n",
        "from temp3 e,temp3 f \n",
        "where e.Confirmed>=f.Confirmed \n",
        "group by f.Country_Region\n",
        "order by confirmed_rank asc),\n",
        "\n",
        "final_temp as (\n",
        "select * from temp_confirmed_rank\n",
        "join temp_recover_rank using(Country_Region)\n",
        "join temp_death_rank using(Country_Region))\n",
        "\n",
        "select * \n",
        "from final_temp \n",
        "where Country_Region = 'US';\n",
        "\n",
        "'''\n",
        "\n",
        "\n",
        "ps.sqldf(query)"
      ],
      "execution_count": null,
      "outputs": [
        {
          "output_type": "execute_result",
          "data": {
            "text/html": [
              "<div>\n",
              "<style scoped>\n",
              "    .dataframe tbody tr th:only-of-type {\n",
              "        vertical-align: middle;\n",
              "    }\n",
              "\n",
              "    .dataframe tbody tr th {\n",
              "        vertical-align: top;\n",
              "    }\n",
              "\n",
              "    .dataframe thead th {\n",
              "        text-align: right;\n",
              "    }\n",
              "</style>\n",
              "<table border=\"1\" class=\"dataframe\">\n",
              "  <thead>\n",
              "    <tr style=\"text-align: right;\">\n",
              "      <th></th>\n",
              "      <th>Country_Region</th>\n",
              "      <th>confirmed_rank</th>\n",
              "      <th>recover_rank</th>\n",
              "      <th>death_rank</th>\n",
              "    </tr>\n",
              "  </thead>\n",
              "  <tbody>\n",
              "    <tr>\n",
              "      <th>0</th>\n",
              "      <td>US</td>\n",
              "      <td>1</td>\n",
              "      <td>3</td>\n",
              "      <td>1</td>\n",
              "    </tr>\n",
              "  </tbody>\n",
              "</table>\n",
              "</div>"
            ],
            "text/plain": [
              "  Country_Region  confirmed_rank  recover_rank  death_rank\n",
              "0             US               1             3           1"
            ]
          },
          "metadata": {
            "tags": []
          },
          "execution_count": 94
        }
      ]
    },
    {
      "cell_type": "markdown",
      "metadata": {
        "id": "1q2K5YyzVEQ-"
      },
      "source": [
        "##Food quantity\n"
      ]
    },
    {
      "cell_type": "code",
      "metadata": {
        "colab": {
          "base_uri": "https://localhost:8080/",
          "height": 292
        },
        "id": "bgji-ftVVWGj",
        "outputId": "c778a1d3-91cd-4836-abb6-4d8ab7b3f0fc"
      },
      "source": [
        "df = pd.read_csv('Food_Supply_Quantity_kg_Data.csv')\n",
        "df.head()"
      ],
      "execution_count": null,
      "outputs": [
        {
          "output_type": "execute_result",
          "data": {
            "text/html": [
              "<div>\n",
              "<style scoped>\n",
              "    .dataframe tbody tr th:only-of-type {\n",
              "        vertical-align: middle;\n",
              "    }\n",
              "\n",
              "    .dataframe tbody tr th {\n",
              "        vertical-align: top;\n",
              "    }\n",
              "\n",
              "    .dataframe thead th {\n",
              "        text-align: right;\n",
              "    }\n",
              "</style>\n",
              "<table border=\"1\" class=\"dataframe\">\n",
              "  <thead>\n",
              "    <tr style=\"text-align: right;\">\n",
              "      <th></th>\n",
              "      <th>Country</th>\n",
              "      <th>Alcoholic Beverages</th>\n",
              "      <th>Animal fats</th>\n",
              "      <th>Animal Products</th>\n",
              "      <th>Aquatic Products, Other</th>\n",
              "      <th>Cereals - Excluding Beer</th>\n",
              "      <th>Eggs</th>\n",
              "      <th>Fish, Seafood</th>\n",
              "      <th>Fruits - Excluding Wine</th>\n",
              "      <th>Meat</th>\n",
              "      <th>Milk - Excluding Butter</th>\n",
              "      <th>Miscellaneous</th>\n",
              "      <th>Offals</th>\n",
              "      <th>Oilcrops</th>\n",
              "      <th>Pulses</th>\n",
              "      <th>Spices</th>\n",
              "      <th>Starchy Roots</th>\n",
              "      <th>Stimulants</th>\n",
              "      <th>Sugar &amp; Sweeteners</th>\n",
              "      <th>Sugar Crops</th>\n",
              "      <th>Treenuts</th>\n",
              "      <th>Vegetable Oils</th>\n",
              "      <th>Vegetables</th>\n",
              "      <th>Vegetal Products</th>\n",
              "      <th>Obesity</th>\n",
              "      <th>Undernourished</th>\n",
              "      <th>Confirmed</th>\n",
              "      <th>Deaths</th>\n",
              "      <th>Recovered</th>\n",
              "      <th>Active</th>\n",
              "      <th>Population</th>\n",
              "      <th>Unit (all except Population)</th>\n",
              "    </tr>\n",
              "  </thead>\n",
              "  <tbody>\n",
              "    <tr>\n",
              "      <th>0</th>\n",
              "      <td>Afghanistan</td>\n",
              "      <td>0.0014</td>\n",
              "      <td>0.1973</td>\n",
              "      <td>9.4341</td>\n",
              "      <td>0.0</td>\n",
              "      <td>24.8097</td>\n",
              "      <td>0.2099</td>\n",
              "      <td>0.0350</td>\n",
              "      <td>5.3495</td>\n",
              "      <td>1.2020</td>\n",
              "      <td>7.5828</td>\n",
              "      <td>0.0728</td>\n",
              "      <td>0.2057</td>\n",
              "      <td>0.0700</td>\n",
              "      <td>0.2953</td>\n",
              "      <td>0.0574</td>\n",
              "      <td>0.8802</td>\n",
              "      <td>0.3078</td>\n",
              "      <td>1.3489</td>\n",
              "      <td>0.0</td>\n",
              "      <td>0.0770</td>\n",
              "      <td>0.5345</td>\n",
              "      <td>6.7642</td>\n",
              "      <td>40.5645</td>\n",
              "      <td>4.5</td>\n",
              "      <td>29.8</td>\n",
              "      <td>0.142134</td>\n",
              "      <td>0.006186</td>\n",
              "      <td>0.123374</td>\n",
              "      <td>0.012574</td>\n",
              "      <td>38928000.0</td>\n",
              "      <td>%</td>\n",
              "    </tr>\n",
              "    <tr>\n",
              "      <th>1</th>\n",
              "      <td>Albania</td>\n",
              "      <td>1.6719</td>\n",
              "      <td>0.1357</td>\n",
              "      <td>18.7684</td>\n",
              "      <td>0.0</td>\n",
              "      <td>5.7817</td>\n",
              "      <td>0.5815</td>\n",
              "      <td>0.2126</td>\n",
              "      <td>6.7861</td>\n",
              "      <td>1.8845</td>\n",
              "      <td>15.7213</td>\n",
              "      <td>0.1123</td>\n",
              "      <td>0.2324</td>\n",
              "      <td>0.9377</td>\n",
              "      <td>0.2380</td>\n",
              "      <td>0.0008</td>\n",
              "      <td>1.8096</td>\n",
              "      <td>0.1055</td>\n",
              "      <td>1.5367</td>\n",
              "      <td>0.0</td>\n",
              "      <td>0.1515</td>\n",
              "      <td>0.3261</td>\n",
              "      <td>11.7753</td>\n",
              "      <td>31.2304</td>\n",
              "      <td>22.3</td>\n",
              "      <td>6.2</td>\n",
              "      <td>2.967301</td>\n",
              "      <td>0.050951</td>\n",
              "      <td>1.792636</td>\n",
              "      <td>1.123714</td>\n",
              "      <td>2838000.0</td>\n",
              "      <td>%</td>\n",
              "    </tr>\n",
              "    <tr>\n",
              "      <th>2</th>\n",
              "      <td>Algeria</td>\n",
              "      <td>0.2711</td>\n",
              "      <td>0.0282</td>\n",
              "      <td>9.6334</td>\n",
              "      <td>0.0</td>\n",
              "      <td>13.6816</td>\n",
              "      <td>0.5277</td>\n",
              "      <td>0.2416</td>\n",
              "      <td>6.3801</td>\n",
              "      <td>1.1305</td>\n",
              "      <td>7.6189</td>\n",
              "      <td>0.1671</td>\n",
              "      <td>0.0870</td>\n",
              "      <td>0.3493</td>\n",
              "      <td>0.4783</td>\n",
              "      <td>0.0557</td>\n",
              "      <td>4.1340</td>\n",
              "      <td>0.2216</td>\n",
              "      <td>1.8342</td>\n",
              "      <td>0.0</td>\n",
              "      <td>0.1152</td>\n",
              "      <td>1.0310</td>\n",
              "      <td>11.6484</td>\n",
              "      <td>40.3651</td>\n",
              "      <td>26.6</td>\n",
              "      <td>3.9</td>\n",
              "      <td>0.244897</td>\n",
              "      <td>0.006558</td>\n",
              "      <td>0.167572</td>\n",
              "      <td>0.070767</td>\n",
              "      <td>44357000.0</td>\n",
              "      <td>%</td>\n",
              "    </tr>\n",
              "    <tr>\n",
              "      <th>3</th>\n",
              "      <td>Angola</td>\n",
              "      <td>5.8087</td>\n",
              "      <td>0.0560</td>\n",
              "      <td>4.9278</td>\n",
              "      <td>0.0</td>\n",
              "      <td>9.1085</td>\n",
              "      <td>0.0587</td>\n",
              "      <td>1.7707</td>\n",
              "      <td>6.0005</td>\n",
              "      <td>2.0571</td>\n",
              "      <td>0.8311</td>\n",
              "      <td>0.1165</td>\n",
              "      <td>0.1550</td>\n",
              "      <td>0.4186</td>\n",
              "      <td>0.6507</td>\n",
              "      <td>0.0009</td>\n",
              "      <td>18.1102</td>\n",
              "      <td>0.0508</td>\n",
              "      <td>1.8495</td>\n",
              "      <td>0.0</td>\n",
              "      <td>0.0061</td>\n",
              "      <td>0.6463</td>\n",
              "      <td>2.3041</td>\n",
              "      <td>45.0722</td>\n",
              "      <td>6.8</td>\n",
              "      <td>25</td>\n",
              "      <td>0.061687</td>\n",
              "      <td>0.001461</td>\n",
              "      <td>0.056808</td>\n",
              "      <td>0.003419</td>\n",
              "      <td>32522000.0</td>\n",
              "      <td>%</td>\n",
              "    </tr>\n",
              "    <tr>\n",
              "      <th>4</th>\n",
              "      <td>Antigua and Barbuda</td>\n",
              "      <td>3.5764</td>\n",
              "      <td>0.0087</td>\n",
              "      <td>16.6613</td>\n",
              "      <td>0.0</td>\n",
              "      <td>5.9960</td>\n",
              "      <td>0.2274</td>\n",
              "      <td>4.1489</td>\n",
              "      <td>10.7451</td>\n",
              "      <td>5.6888</td>\n",
              "      <td>6.3663</td>\n",
              "      <td>0.7139</td>\n",
              "      <td>0.2219</td>\n",
              "      <td>0.2172</td>\n",
              "      <td>0.1840</td>\n",
              "      <td>0.1524</td>\n",
              "      <td>1.4522</td>\n",
              "      <td>0.1564</td>\n",
              "      <td>3.8749</td>\n",
              "      <td>0.0</td>\n",
              "      <td>0.0253</td>\n",
              "      <td>0.8102</td>\n",
              "      <td>5.4495</td>\n",
              "      <td>33.3233</td>\n",
              "      <td>19.1</td>\n",
              "      <td>NaN</td>\n",
              "      <td>0.293878</td>\n",
              "      <td>0.007143</td>\n",
              "      <td>0.190816</td>\n",
              "      <td>0.095918</td>\n",
              "      <td>98000.0</td>\n",
              "      <td>%</td>\n",
              "    </tr>\n",
              "  </tbody>\n",
              "</table>\n",
              "</div>"
            ],
            "text/plain": [
              "               Country  ...  Unit (all except Population)\n",
              "0          Afghanistan  ...                             %\n",
              "1              Albania  ...                             %\n",
              "2              Algeria  ...                             %\n",
              "3               Angola  ...                             %\n",
              "4  Antigua and Barbuda  ...                             %\n",
              "\n",
              "[5 rows x 32 columns]"
            ]
          },
          "metadata": {
            "tags": []
          },
          "execution_count": 8
        }
      ]
    },
    {
      "cell_type": "code",
      "metadata": {
        "id": "NDe_yNGkVeRT"
      },
      "source": [
        "#Delete meaningless features\n",
        "df = df.drop(['Aquatic Products, Other','Miscellaneous','Offals','Oilcrops','Pulses','Spices','Stimulants','Sugar Crops','Treenuts','Active','Unit (all except Population)'],axis = 1)"
      ],
      "execution_count": null,
      "outputs": []
    },
    {
      "cell_type": "code",
      "metadata": {
        "id": "wqugNa4WX3Ly"
      },
      "source": [
        "#Fill the null values with 0\n",
        "df.fillna(0,inplace = True)"
      ],
      "execution_count": null,
      "outputs": []
    },
    {
      "cell_type": "code",
      "metadata": {
        "colab": {
          "base_uri": "https://localhost:8080/"
        },
        "id": "QBI-hLikYfkK",
        "outputId": "d04d1ec5-03a0-479e-a428-b748e6a8b4d0"
      },
      "source": [
        "df.columns"
      ],
      "execution_count": null,
      "outputs": [
        {
          "output_type": "execute_result",
          "data": {
            "text/plain": [
              "Index(['Country', 'Alcoholic Beverages', 'Animal fats', 'Animal Products',\n",
              "       'Cereals - Excluding Beer', 'Fish, Seafood', 'Fruits - Excluding Wine',\n",
              "       'Meat', 'Milk - Excluding Butter', 'Starchy Roots',\n",
              "       'Sugar & Sweeteners', 'Vegetable Oils', 'Vegetables',\n",
              "       'Vegetal Products', 'Obesity', 'Undernourished', 'Confirmed', 'Deaths',\n",
              "       'Recovered', 'Population'],\n",
              "      dtype='object')"
            ]
          },
          "metadata": {
            "tags": []
          },
          "execution_count": 11
        }
      ]
    },
    {
      "cell_type": "code",
      "metadata": {
        "id": "RWol1eMLYN_D"
      },
      "source": [
        "#Divide the dataset into two parts for the future application\n",
        "df_food = df[['Country', 'Alcoholic Beverages', 'Animal fats', 'Animal Products',\n",
        "       'Cereals - Excluding Beer','Eggs', 'Fish, Seafood', 'Fruits - Excluding Wine',\n",
        "       'Meat', 'Milk - Excluding Butter', 'Starchy Roots',\n",
        "       'Sugar & Sweeteners', 'Vegetable Oils', 'Vegetables',\n",
        "       'Vegetal Products', 'Obesity', 'Undernourished']]\n",
        "df_food_case = df[['Country','Confirmed', 'Deaths','Recovered', 'Population']]"
      ],
      "execution_count": null,
      "outputs": []
    },
    {
      "cell_type": "code",
      "metadata": {
        "id": "QB7SclrQYtmY"
      },
      "source": [
        "#Replace the names of some columns for sql queries\n",
        "df_food = df_food.rename(columns={'Alcoholic Beverages':'Alcoholic_Beverages',\n",
        "            'Animal fats':'Animal_fats',\n",
        "            'Animal Products':'Animal_Products',\n",
        "            'Cereals - Excluding Beer':'Cereals',\n",
        "            'Fish, Seafood' : 'Fish_Seafood',\n",
        "            'Fruits - Excluding Wine':'Fruits',\n",
        "            'Milk - Excluding Butter':'Milk',\n",
        "            'Starchy Roots':'Starchy_Roots',\n",
        "            'Sugar & Sweeteners':'Sugar',\n",
        "            'Vegetable Oils': 'Vegetable_Oils',\n",
        "            'Vegetal Products' :'Vegetal_Products'})"
      ],
      "execution_count": null,
      "outputs": []
    },
    {
      "cell_type": "code",
      "metadata": {
        "colab": {
          "base_uri": "https://localhost:8080/",
          "height": 197
        },
        "id": "kiJoo5VBamH4",
        "outputId": "2fc74df9-153e-40c4-e6b5-743c47a72cdd"
      },
      "source": [
        "df_food.head()  "
      ],
      "execution_count": null,
      "outputs": [
        {
          "output_type": "execute_result",
          "data": {
            "text/html": [
              "<div>\n",
              "<style scoped>\n",
              "    .dataframe tbody tr th:only-of-type {\n",
              "        vertical-align: middle;\n",
              "    }\n",
              "\n",
              "    .dataframe tbody tr th {\n",
              "        vertical-align: top;\n",
              "    }\n",
              "\n",
              "    .dataframe thead th {\n",
              "        text-align: right;\n",
              "    }\n",
              "</style>\n",
              "<table border=\"1\" class=\"dataframe\">\n",
              "  <thead>\n",
              "    <tr style=\"text-align: right;\">\n",
              "      <th></th>\n",
              "      <th>Country</th>\n",
              "      <th>Alcoholic_Beverages</th>\n",
              "      <th>Animal_fats</th>\n",
              "      <th>Animal_Products</th>\n",
              "      <th>Cereals</th>\n",
              "      <th>Fish_Seafood</th>\n",
              "      <th>Fruits</th>\n",
              "      <th>Meat</th>\n",
              "      <th>Milk</th>\n",
              "      <th>Starchy_Roots</th>\n",
              "      <th>Sugar</th>\n",
              "      <th>Vegetable_Oils</th>\n",
              "      <th>Vegetables</th>\n",
              "      <th>Vegetal_Products</th>\n",
              "      <th>Obesity</th>\n",
              "      <th>Undernourished</th>\n",
              "    </tr>\n",
              "  </thead>\n",
              "  <tbody>\n",
              "    <tr>\n",
              "      <th>0</th>\n",
              "      <td>Afghanistan</td>\n",
              "      <td>0.0014</td>\n",
              "      <td>0.1973</td>\n",
              "      <td>9.4341</td>\n",
              "      <td>24.8097</td>\n",
              "      <td>0.0350</td>\n",
              "      <td>5.3495</td>\n",
              "      <td>1.2020</td>\n",
              "      <td>7.5828</td>\n",
              "      <td>0.8802</td>\n",
              "      <td>1.3489</td>\n",
              "      <td>0.5345</td>\n",
              "      <td>6.7642</td>\n",
              "      <td>40.5645</td>\n",
              "      <td>4.5</td>\n",
              "      <td>29.8</td>\n",
              "    </tr>\n",
              "    <tr>\n",
              "      <th>1</th>\n",
              "      <td>Albania</td>\n",
              "      <td>1.6719</td>\n",
              "      <td>0.1357</td>\n",
              "      <td>18.7684</td>\n",
              "      <td>5.7817</td>\n",
              "      <td>0.2126</td>\n",
              "      <td>6.7861</td>\n",
              "      <td>1.8845</td>\n",
              "      <td>15.7213</td>\n",
              "      <td>1.8096</td>\n",
              "      <td>1.5367</td>\n",
              "      <td>0.3261</td>\n",
              "      <td>11.7753</td>\n",
              "      <td>31.2304</td>\n",
              "      <td>22.3</td>\n",
              "      <td>6.2</td>\n",
              "    </tr>\n",
              "    <tr>\n",
              "      <th>2</th>\n",
              "      <td>Algeria</td>\n",
              "      <td>0.2711</td>\n",
              "      <td>0.0282</td>\n",
              "      <td>9.6334</td>\n",
              "      <td>13.6816</td>\n",
              "      <td>0.2416</td>\n",
              "      <td>6.3801</td>\n",
              "      <td>1.1305</td>\n",
              "      <td>7.6189</td>\n",
              "      <td>4.1340</td>\n",
              "      <td>1.8342</td>\n",
              "      <td>1.0310</td>\n",
              "      <td>11.6484</td>\n",
              "      <td>40.3651</td>\n",
              "      <td>26.6</td>\n",
              "      <td>3.9</td>\n",
              "    </tr>\n",
              "    <tr>\n",
              "      <th>3</th>\n",
              "      <td>Angola</td>\n",
              "      <td>5.8087</td>\n",
              "      <td>0.0560</td>\n",
              "      <td>4.9278</td>\n",
              "      <td>9.1085</td>\n",
              "      <td>1.7707</td>\n",
              "      <td>6.0005</td>\n",
              "      <td>2.0571</td>\n",
              "      <td>0.8311</td>\n",
              "      <td>18.1102</td>\n",
              "      <td>1.8495</td>\n",
              "      <td>0.6463</td>\n",
              "      <td>2.3041</td>\n",
              "      <td>45.0722</td>\n",
              "      <td>6.8</td>\n",
              "      <td>25</td>\n",
              "    </tr>\n",
              "    <tr>\n",
              "      <th>4</th>\n",
              "      <td>Antigua and Barbuda</td>\n",
              "      <td>3.5764</td>\n",
              "      <td>0.0087</td>\n",
              "      <td>16.6613</td>\n",
              "      <td>5.9960</td>\n",
              "      <td>4.1489</td>\n",
              "      <td>10.7451</td>\n",
              "      <td>5.6888</td>\n",
              "      <td>6.3663</td>\n",
              "      <td>1.4522</td>\n",
              "      <td>3.8749</td>\n",
              "      <td>0.8102</td>\n",
              "      <td>5.4495</td>\n",
              "      <td>33.3233</td>\n",
              "      <td>19.1</td>\n",
              "      <td>0</td>\n",
              "    </tr>\n",
              "  </tbody>\n",
              "</table>\n",
              "</div>"
            ],
            "text/plain": [
              "               Country  Alcoholic_Beverages  ...  Obesity  Undernourished\n",
              "0          Afghanistan               0.0014  ...      4.5            29.8\n",
              "1              Albania               1.6719  ...     22.3             6.2\n",
              "2              Algeria               0.2711  ...     26.6             3.9\n",
              "3               Angola               5.8087  ...      6.8              25\n",
              "4  Antigua and Barbuda               3.5764  ...     19.1               0\n",
              "\n",
              "[5 rows x 16 columns]"
            ]
          },
          "metadata": {
            "tags": []
          },
          "execution_count": 14
        }
      ]
    },
    {
      "cell_type": "code",
      "metadata": {
        "colab": {
          "base_uri": "https://localhost:8080/",
          "height": 197
        },
        "id": "Drrf1kTba3uC",
        "outputId": "55244886-81ff-4d42-a377-ca66a06114e7"
      },
      "source": [
        "df_food_case.head()"
      ],
      "execution_count": null,
      "outputs": [
        {
          "output_type": "execute_result",
          "data": {
            "text/html": [
              "<div>\n",
              "<style scoped>\n",
              "    .dataframe tbody tr th:only-of-type {\n",
              "        vertical-align: middle;\n",
              "    }\n",
              "\n",
              "    .dataframe tbody tr th {\n",
              "        vertical-align: top;\n",
              "    }\n",
              "\n",
              "    .dataframe thead th {\n",
              "        text-align: right;\n",
              "    }\n",
              "</style>\n",
              "<table border=\"1\" class=\"dataframe\">\n",
              "  <thead>\n",
              "    <tr style=\"text-align: right;\">\n",
              "      <th></th>\n",
              "      <th>Country</th>\n",
              "      <th>Confirmed</th>\n",
              "      <th>Deaths</th>\n",
              "      <th>Recovered</th>\n",
              "      <th>Population</th>\n",
              "    </tr>\n",
              "  </thead>\n",
              "  <tbody>\n",
              "    <tr>\n",
              "      <th>0</th>\n",
              "      <td>Afghanistan</td>\n",
              "      <td>0.142134</td>\n",
              "      <td>0.006186</td>\n",
              "      <td>0.123374</td>\n",
              "      <td>38928000.0</td>\n",
              "    </tr>\n",
              "    <tr>\n",
              "      <th>1</th>\n",
              "      <td>Albania</td>\n",
              "      <td>2.967301</td>\n",
              "      <td>0.050951</td>\n",
              "      <td>1.792636</td>\n",
              "      <td>2838000.0</td>\n",
              "    </tr>\n",
              "    <tr>\n",
              "      <th>2</th>\n",
              "      <td>Algeria</td>\n",
              "      <td>0.244897</td>\n",
              "      <td>0.006558</td>\n",
              "      <td>0.167572</td>\n",
              "      <td>44357000.0</td>\n",
              "    </tr>\n",
              "    <tr>\n",
              "      <th>3</th>\n",
              "      <td>Angola</td>\n",
              "      <td>0.061687</td>\n",
              "      <td>0.001461</td>\n",
              "      <td>0.056808</td>\n",
              "      <td>32522000.0</td>\n",
              "    </tr>\n",
              "    <tr>\n",
              "      <th>4</th>\n",
              "      <td>Antigua and Barbuda</td>\n",
              "      <td>0.293878</td>\n",
              "      <td>0.007143</td>\n",
              "      <td>0.190816</td>\n",
              "      <td>98000.0</td>\n",
              "    </tr>\n",
              "  </tbody>\n",
              "</table>\n",
              "</div>"
            ],
            "text/plain": [
              "               Country  Confirmed    Deaths  Recovered  Population\n",
              "0          Afghanistan   0.142134  0.006186   0.123374  38928000.0\n",
              "1              Albania   2.967301  0.050951   1.792636   2838000.0\n",
              "2              Algeria   0.244897  0.006558   0.167572  44357000.0\n",
              "3               Angola   0.061687  0.001461   0.056808  32522000.0\n",
              "4  Antigua and Barbuda   0.293878  0.007143   0.190816     98000.0"
            ]
          },
          "metadata": {
            "tags": []
          },
          "execution_count": 15
        }
      ]
    },
    {
      "cell_type": "markdown",
      "metadata": {
        "id": "yjb0PZaGa68I"
      },
      "source": [
        "##Covid Groups"
      ]
    },
    {
      "cell_type": "code",
      "metadata": {
        "colab": {
          "base_uri": "https://localhost:8080/"
        },
        "id": "2aARkdOjbUHZ",
        "outputId": "d8e2d199-e513-4013-f3bf-de2252e96cb9"
      },
      "source": [
        "df = pd.read_csv('COVID-19_Case_Surveillance_Public_Use_Data.csv')"
      ],
      "execution_count": null,
      "outputs": [
        {
          "output_type": "stream",
          "text": [
            "/usr/local/lib/python3.7/dist-packages/IPython/core/interactiveshell.py:2718: DtypeWarning: Columns (2) have mixed types.Specify dtype option on import or set low_memory=False.\n",
            "  interactivity=interactivity, compiler=compiler, result=result)\n"
          ],
          "name": "stderr"
        }
      ]
    },
    {
      "cell_type": "code",
      "metadata": {
        "id": "yzlA-2goeWpI"
      },
      "source": [
        "#Cleat the 'sex' column\n",
        "################################\n",
        "############Full RAM###########\n",
        "# query = '''\n",
        "# Select * from df \n",
        "# where sex != 'Other' and sex != 'Missing' and sex != 'Unknown'\n",
        "# '''\n",
        "# df = ps.sqldf(query)\n",
        "# df[['sex']].value_counts()\n",
        "################################\n",
        "# Clear the sex column\n",
        "df = df[(df['sex'] != 'Unknown') & (df['sex']!= 'Missing')  & (df['sex']!= 'Other')]\n",
        "df.reset_index(inplace= True,drop= True)\n",
        "\n",
        "# Clear the age_group column\n",
        "df = df[(df['age_group'] != 'Unknown')]\n",
        "df.reset_index(inplace= True,drop= True)\n",
        "\n",
        "# Clear the Race and ethnicity (combined) column\n",
        "df = df[(df['race_ethnicity_combined'] != 'Unknown') & (df['race_ethnicity_combined'] != 'Missing')]\n",
        "df.reset_index(inplace= True,drop= True)\n",
        "\n",
        "# Clear the hosp_yn column\n",
        "df = df[(df['hosp_yn'] != 'Unknown') & (df['hosp_yn'] != 'Missing')]\n",
        "df.reset_index(inplace= True,drop= True)\n",
        "# Clear the icu_yn column\n",
        "df = df[(df['icu_yn'] != 'Unknown') & (df['icu_yn'] != 'Missing')] \n",
        "df.reset_index(inplace= True,drop= True)\n",
        "# Clear the death_yn column \n",
        "df = df[(df['death_yn'] != 'Unknown') & (df['death_yn'] != 'Missing')]\n",
        "df.reset_index(inplace= True,drop= True)\n"
      ],
      "execution_count": null,
      "outputs": []
    },
    {
      "cell_type": "code",
      "metadata": {
        "colab": {
          "base_uri": "https://localhost:8080/"
        },
        "id": "cOf0K8Ojh8MJ",
        "outputId": "b8ca2232-0cd0-44d3-819d-47690358b644"
      },
      "source": [
        "#Select some meaningful columns\n",
        "df.columns"
      ],
      "execution_count": null,
      "outputs": [
        {
          "output_type": "execute_result",
          "data": {
            "text/plain": [
              "Index(['cdc_case_earliest_dt ', 'cdc_report_dt', 'pos_spec_dt', 'onset_dt',\n",
              "       'current_status', 'sex', 'age_group', 'race_ethnicity_combined',\n",
              "       'hosp_yn', 'icu_yn', 'death_yn', 'medcond_yn'],\n",
              "      dtype='object')"
            ]
          },
          "metadata": {
            "tags": []
          },
          "execution_count": 18
        }
      ]
    },
    {
      "cell_type": "code",
      "metadata": {
        "colab": {
          "base_uri": "https://localhost:8080/",
          "height": 406
        },
        "id": "SSuBhRuOiERy",
        "outputId": "bd04d656-71f3-42be-c83f-8528ff22db56"
      },
      "source": [
        "df = df[['sex', 'age_group', 'race_ethnicity_combined',\n",
        "       'hosp_yn', 'icu_yn', 'death_yn']]\n",
        "df"
      ],
      "execution_count": null,
      "outputs": [
        {
          "output_type": "execute_result",
          "data": {
            "text/html": [
              "<div>\n",
              "<style scoped>\n",
              "    .dataframe tbody tr th:only-of-type {\n",
              "        vertical-align: middle;\n",
              "    }\n",
              "\n",
              "    .dataframe tbody tr th {\n",
              "        vertical-align: top;\n",
              "    }\n",
              "\n",
              "    .dataframe thead th {\n",
              "        text-align: right;\n",
              "    }\n",
              "</style>\n",
              "<table border=\"1\" class=\"dataframe\">\n",
              "  <thead>\n",
              "    <tr style=\"text-align: right;\">\n",
              "      <th></th>\n",
              "      <th>sex</th>\n",
              "      <th>age_group</th>\n",
              "      <th>race_ethnicity_combined</th>\n",
              "      <th>hosp_yn</th>\n",
              "      <th>icu_yn</th>\n",
              "      <th>death_yn</th>\n",
              "    </tr>\n",
              "  </thead>\n",
              "  <tbody>\n",
              "    <tr>\n",
              "      <th>0</th>\n",
              "      <td>Female</td>\n",
              "      <td>0 - 9 Years</td>\n",
              "      <td>White, Non-Hispanic</td>\n",
              "      <td>No</td>\n",
              "      <td>No</td>\n",
              "      <td>No</td>\n",
              "    </tr>\n",
              "    <tr>\n",
              "      <th>1</th>\n",
              "      <td>Female</td>\n",
              "      <td>0 - 9 Years</td>\n",
              "      <td>White, Non-Hispanic</td>\n",
              "      <td>No</td>\n",
              "      <td>No</td>\n",
              "      <td>No</td>\n",
              "    </tr>\n",
              "    <tr>\n",
              "      <th>2</th>\n",
              "      <td>Male</td>\n",
              "      <td>0 - 9 Years</td>\n",
              "      <td>Hispanic/Latino</td>\n",
              "      <td>No</td>\n",
              "      <td>No</td>\n",
              "      <td>No</td>\n",
              "    </tr>\n",
              "    <tr>\n",
              "      <th>3</th>\n",
              "      <td>Male</td>\n",
              "      <td>0 - 9 Years</td>\n",
              "      <td>Hispanic/Latino</td>\n",
              "      <td>No</td>\n",
              "      <td>No</td>\n",
              "      <td>No</td>\n",
              "    </tr>\n",
              "    <tr>\n",
              "      <th>4</th>\n",
              "      <td>Male</td>\n",
              "      <td>0 - 9 Years</td>\n",
              "      <td>Hispanic/Latino</td>\n",
              "      <td>No</td>\n",
              "      <td>No</td>\n",
              "      <td>No</td>\n",
              "    </tr>\n",
              "    <tr>\n",
              "      <th>...</th>\n",
              "      <td>...</td>\n",
              "      <td>...</td>\n",
              "      <td>...</td>\n",
              "      <td>...</td>\n",
              "      <td>...</td>\n",
              "      <td>...</td>\n",
              "    </tr>\n",
              "    <tr>\n",
              "      <th>824452</th>\n",
              "      <td>Female</td>\n",
              "      <td>30 - 39 Years</td>\n",
              "      <td>Multiple/Other, Non-Hispanic</td>\n",
              "      <td>No</td>\n",
              "      <td>No</td>\n",
              "      <td>No</td>\n",
              "    </tr>\n",
              "    <tr>\n",
              "      <th>824453</th>\n",
              "      <td>Female</td>\n",
              "      <td>30 - 39 Years</td>\n",
              "      <td>Multiple/Other, Non-Hispanic</td>\n",
              "      <td>No</td>\n",
              "      <td>No</td>\n",
              "      <td>No</td>\n",
              "    </tr>\n",
              "    <tr>\n",
              "      <th>824454</th>\n",
              "      <td>Female</td>\n",
              "      <td>30 - 39 Years</td>\n",
              "      <td>Native Hawaiian/Other Pacific Islander, Non-Hi...</td>\n",
              "      <td>No</td>\n",
              "      <td>No</td>\n",
              "      <td>No</td>\n",
              "    </tr>\n",
              "    <tr>\n",
              "      <th>824455</th>\n",
              "      <td>Female</td>\n",
              "      <td>30 - 39 Years</td>\n",
              "      <td>Native Hawaiian/Other Pacific Islander, Non-Hi...</td>\n",
              "      <td>No</td>\n",
              "      <td>No</td>\n",
              "      <td>No</td>\n",
              "    </tr>\n",
              "    <tr>\n",
              "      <th>824456</th>\n",
              "      <td>Female</td>\n",
              "      <td>30 - 39 Years</td>\n",
              "      <td>Native Hawaiian/Other Pacific Islander, Non-Hi...</td>\n",
              "      <td>No</td>\n",
              "      <td>No</td>\n",
              "      <td>No</td>\n",
              "    </tr>\n",
              "  </tbody>\n",
              "</table>\n",
              "<p>824457 rows × 6 columns</p>\n",
              "</div>"
            ],
            "text/plain": [
              "           sex      age_group  ... icu_yn death_yn\n",
              "0       Female    0 - 9 Years  ...     No       No\n",
              "1       Female    0 - 9 Years  ...     No       No\n",
              "2         Male    0 - 9 Years  ...     No       No\n",
              "3         Male    0 - 9 Years  ...     No       No\n",
              "4         Male    0 - 9 Years  ...     No       No\n",
              "...        ...            ...  ...    ...      ...\n",
              "824452  Female  30 - 39 Years  ...     No       No\n",
              "824453  Female  30 - 39 Years  ...     No       No\n",
              "824454  Female  30 - 39 Years  ...     No       No\n",
              "824455  Female  30 - 39 Years  ...     No       No\n",
              "824456  Female  30 - 39 Years  ...     No       No\n",
              "\n",
              "[824457 rows x 6 columns]"
            ]
          },
          "metadata": {
            "tags": []
          },
          "execution_count": 19
        }
      ]
    }
  ]
}